{
 "cells": [
  {
   "cell_type": "code",
   "execution_count": 44,
   "id": "379223e4",
   "metadata": {},
   "outputs": [],
   "source": [
    "import pandas as pd"
   ]
  },
  {
   "cell_type": "code",
   "execution_count": 45,
   "id": "14271407",
   "metadata": {},
   "outputs": [
    {
     "data": {
      "text/html": [
       "<div>\n",
       "<style scoped>\n",
       "    .dataframe tbody tr th:only-of-type {\n",
       "        vertical-align: middle;\n",
       "    }\n",
       "\n",
       "    .dataframe tbody tr th {\n",
       "        vertical-align: top;\n",
       "    }\n",
       "\n",
       "    .dataframe thead th {\n",
       "        text-align: right;\n",
       "    }\n",
       "</style>\n",
       "<table border=\"1\" class=\"dataframe\">\n",
       "  <thead>\n",
       "    <tr style=\"text-align: right;\">\n",
       "      <th></th>\n",
       "      <th>Text</th>\n",
       "      <th>Language</th>\n",
       "    </tr>\n",
       "  </thead>\n",
       "  <tbody>\n",
       "    <tr>\n",
       "      <th>9054</th>\n",
       "      <td>في حادثة سيرة جون سيجنثالر، قدم محرر مجهول معل...</td>\n",
       "      <td>Arabic</td>\n",
       "    </tr>\n",
       "    <tr>\n",
       "      <th>7172</th>\n",
       "      <td>][14] Le voci di Wikipedia sono spesso citate ...</td>\n",
       "      <td>Italian</td>\n",
       "    </tr>\n",
       "    <tr>\n",
       "      <th>4991</th>\n",
       "      <td>[126]​ Muchos artículos son revertidos o inclu...</td>\n",
       "      <td>Spanish</td>\n",
       "    </tr>\n",
       "    <tr>\n",
       "      <th>4785</th>\n",
       "      <td>was erg bang, maak je geen zorgen mijn liefste...</td>\n",
       "      <td>Dutch</td>\n",
       "    </tr>\n",
       "    <tr>\n",
       "      <th>1989</th>\n",
       "      <td>[3] जुलाई 2008 को, पांच सबसे बड़े भाषा संस्करण...</td>\n",
       "      <td>Hindi</td>\n",
       "    </tr>\n",
       "    <tr>\n",
       "      <th>2105</th>\n",
       "      <td>[58] பல்வேறு சோதனை ஓட்டங்கள் மற்றும் கலந்துரைய...</td>\n",
       "      <td>Tamil</td>\n",
       "    </tr>\n",
       "    <tr>\n",
       "      <th>5612</th>\n",
       "      <td>Pensé que te gustaban las cosas elegantes.</td>\n",
       "      <td>Spanish</td>\n",
       "    </tr>\n",
       "    <tr>\n",
       "      <th>1975</th>\n",
       "      <td>നാർസിസ ആദ്യം പാടുപെട്ട വഴികൾ മാറ്റി, പക്ഷേ പതു...</td>\n",
       "      <td>Malayalam</td>\n",
       "    </tr>\n",
       "    <tr>\n",
       "      <th>8680</th>\n",
       "      <td>du frågar vad du har gjort så vad som hände i ...</td>\n",
       "      <td>Sweedish</td>\n",
       "    </tr>\n",
       "    <tr>\n",
       "      <th>2687</th>\n",
       "      <td>Embora nas várias edições de idiomas sejam man...</td>\n",
       "      <td>Portugeese</td>\n",
       "    </tr>\n",
       "  </tbody>\n",
       "</table>\n",
       "</div>"
      ],
      "text/plain": [
       "                                                   Text    Language\n",
       "9054  في حادثة سيرة جون سيجنثالر، قدم محرر مجهول معل...      Arabic\n",
       "7172  ][14] Le voci di Wikipedia sono spesso citate ...     Italian\n",
       "4991  [126]​ Muchos artículos son revertidos o inclu...     Spanish\n",
       "4785  was erg bang, maak je geen zorgen mijn liefste...       Dutch\n",
       "1989  [3] जुलाई 2008 को, पांच सबसे बड़े भाषा संस्करण...       Hindi\n",
       "2105  [58] பல்வேறு சோதனை ஓட்டங்கள் மற்றும் கலந்துரைய...       Tamil\n",
       "5612         Pensé que te gustaban las cosas elegantes.     Spanish\n",
       "1975  നാർസിസ ആദ്യം പാടുപെട്ട വഴികൾ മാറ്റി, പക്ഷേ പതു...   Malayalam\n",
       "8680  du frågar vad du har gjort så vad som hände i ...    Sweedish\n",
       "2687  Embora nas várias edições de idiomas sejam man...  Portugeese"
      ]
     },
     "execution_count": 45,
     "metadata": {},
     "output_type": "execute_result"
    }
   ],
   "source": [
    "#Reading csv file and making copy of that .\n",
    "file = pd.read_csv(\"D:\\\\datasets\\\\Language_detection\\\\Language Detection.csv\")\n",
    "df = file.copy()\n",
    "df.sample(10)"
   ]
  },
  {
   "cell_type": "code",
   "execution_count": 46,
   "id": "74bd253f",
   "metadata": {},
   "outputs": [
    {
     "name": "stdout",
     "output_type": "stream",
     "text": [
      "<class 'pandas.core.frame.DataFrame'>\n",
      "RangeIndex: 10337 entries, 0 to 10336\n",
      "Data columns (total 2 columns):\n",
      " #   Column    Non-Null Count  Dtype \n",
      "---  ------    --------------  ----- \n",
      " 0   Text      10337 non-null  object\n",
      " 1   Language  10337 non-null  object\n",
      "dtypes: object(2)\n",
      "memory usage: 161.6+ KB\n"
     ]
    }
   ],
   "source": [
    "#Getting informantion of file .\n",
    "df.info()"
   ]
  },
  {
   "cell_type": "code",
   "execution_count": 47,
   "id": "88067663",
   "metadata": {},
   "outputs": [],
   "source": [
    "#Importing needed modules .\n",
    "from tensorflow.keras.preprocessing.text import Tokenizer\n",
    "from tensorflow.keras.preprocessing.sequence import pad_sequences\n",
    "from sklearn.preprocessing import LabelEncoder\n",
    "from tensorflow.keras.utils import to_categorical\n",
    "#Creating an instance of 'LabelEncoder' object .\n",
    "encoder = LabelEncoder()"
   ]
  },
  {
   "cell_type": "code",
   "execution_count": 48,
   "id": "d9c33a4e",
   "metadata": {},
   "outputs": [],
   "source": [
    "#Creating a function to remove stop words from each text .\n",
    "def Filter(text)->str :\n",
    "    '''function docstring'''\n",
    "    stopwords = [\"a\", \"about\", \"above\", \"after\", \"again\", \"against\", \"all\", \"am\", \"an\", \"and\", \"any\", \"are\", \"as\", \"at\", \"be\", \"because\", \"been\", \"before\", \"being\", \"below\", \"between\", \"both\", \"but\", \"by\", \"could\", \"did\", \"do\", \"does\", \"doing\", \"down\", \"during\", \"each\", \"few\", \"for\", \"from\", \"further\", \"had\", \"has\", \"have\", \"having\", \"he\", \"he'd\", \"he'll\", \"he's\", \"her\", \"here\", \"here's\", \"hers\", \"herself\", \"him\", \"himself\", \"his\", \"how\", \"how's\", \"i\", \"i'd\", \"i'll\", \"i'm\", \"i've\", \"if\", \"in\", \"into\", \"is\", \"it\", \"it's\", \"its\", \"itself\", \"let's\", \"me\", \"more\", \"most\", \"my\", \"myself\", \"nor\", \"of\", \"on\", \"once\", \"only\", \"or\", \"other\", \"ought\", \"our\", \"ours\", \"ourselves\", \"out\", \"over\", \"own\", \"same\", \"she\", \"she'd\", \"she'll\", \"she's\", \"should\", \"so\", \"some\", \"such\", \"than\", \"that\", \"that's\", \"the\", \"their\", \"theirs\", \"them\", \"themselves\", \"then\", \"there\", \"there's\", \"these\", \"they\", \"they'd\", \"they'll\", \"they're\", \"they've\", \"this\", \"those\", \"through\", \"to\", \"too\", \"under\", \"until\", \"up\", \"very\", \"was\", \"we\", \"we'd\", \"we'll\", \"we're\", \"we've\", \"were\", \"what\", \"what's\", \"when\", \"when's\", \"where\", \"where's\", \"which\", \"while\", \"who\", \"who's\", \"whom\", \"why\", \"why's\", \"with\", \"would\", \"you\", \"you'd\", \"you'll\", \"you're\", \"you've\", \"your\", \"yours\", \"yourself\", \"yourselves\" ]\n",
    "    temp = ''\n",
    "    text = text.lower()\n",
    "    for word in text.split() :\n",
    "        if word not in stopwords :\n",
    "            temp += word\n",
    "            temp += ' '\n",
    "    return temp[:-1]"
   ]
  },
  {
   "cell_type": "code",
   "execution_count": 49,
   "id": "6c68b630",
   "metadata": {},
   "outputs": [],
   "source": [
    "#Spliting our data to features and labels .\n",
    "features = [Filter(text) for text in df.Text]\n",
    "lbl = to_categorical(encoder.fit_transform(df.Language))"
   ]
  },
  {
   "cell_type": "code",
   "execution_count": 131,
   "id": "36c967bd",
   "metadata": {},
   "outputs": [],
   "source": [
    "#Tokenizing texts and transfering them to a matrix .\n",
    "tokenizer = Tokenizer(oov_token='<00U00>')\n",
    "tokenizer.fit_on_texts(features)\n",
    "sequnces = tokenizer.texts_to_sequences(features)\n",
    "matrix = pad_sequences(sequnces,padding='post',truncating='post',maxlen=18)"
   ]
  },
  {
   "cell_type": "code",
   "execution_count": 132,
   "id": "2cc520dc",
   "metadata": {},
   "outputs": [
    {
     "name": "stdout",
     "output_type": "stream",
     "text": [
      "Enter train size :99\n",
      "(10233, 18)\n",
      "(104, 18)\n",
      "(10233, 17)\n",
      "(104, 17)\n"
     ]
    }
   ],
   "source": [
    "#Splitting features and labels to train and valid sets .\n",
    "idx = (int(input('Enter train size :')) * len(matrix)) // 100\n",
    "ready_x = matrix[:idx]\n",
    "lbl_x = lbl[:idx]\n",
    "ready_y = matrix[idx:]\n",
    "lbl_y = lbl[idx:]\n",
    "print(ready_x.shape)\n",
    "print(ready_y.shape)\n",
    "print(lbl_x.shape)\n",
    "print(lbl_y.shape)"
   ]
  },
  {
   "cell_type": "code",
   "execution_count": 133,
   "id": "41af0af0",
   "metadata": {},
   "outputs": [],
   "source": [
    "#creating model by a function .\n",
    "from tensorflow.keras import models , layers\n",
    "from tensorflow.keras.optimizers import Adam\n",
    "def Create_model() :\n",
    "    '''function docstring'''\n",
    "    model = models.Sequential([layers.Embedding(len(tokenizer.word_index)+1,17,input_length=18)\n",
    "                              #,layers.GlobalAveragePooling1D()\n",
    "                              ,layers.Flatten()\n",
    "                              ,layers.Dense(50,activation='relu')\n",
    "                              ,layers.Dropout(0.2)\n",
    "                              ,layers.Dense(17,activation='softmax')])\n",
    "    model.compile(optimizer=Adam(learning_rate=0.001),loss='categorical_crossentropy',metrics=['accuracy'])\n",
    "    return model"
   ]
  },
  {
   "cell_type": "code",
   "execution_count": 137,
   "id": "d67dcadd",
   "metadata": {},
   "outputs": [
    {
     "name": "stdout",
     "output_type": "stream",
     "text": [
      "Epoch 1/10\n",
      "320/320 [==============================] - 5s 15ms/step - loss: 2.3468 - accuracy: 0.2843 - val_loss: 2.6797 - val_accuracy: 0.0192\n",
      "Epoch 2/10\n",
      "320/320 [==============================] - 4s 13ms/step - loss: 0.6420 - accuracy: 0.8713 - val_loss: 0.8392 - val_accuracy: 0.8750\n",
      "Epoch 3/10\n",
      "320/320 [==============================] - 5s 16ms/step - loss: 0.1808 - accuracy: 0.9670 - val_loss: 0.4462 - val_accuracy: 0.9135\n",
      "Epoch 4/10\n",
      "320/320 [==============================] - 5s 17ms/step - loss: 0.0874 - accuracy: 0.9857 - val_loss: 0.3518 - val_accuracy: 0.9231\n",
      "Epoch 5/10\n",
      "320/320 [==============================] - 5s 15ms/step - loss: 0.0447 - accuracy: 0.9955 - val_loss: 0.3059 - val_accuracy: 0.9135\n",
      "Epoch 6/10\n",
      "320/320 [==============================] - 5s 17ms/step - loss: 0.0273 - accuracy: 0.9972 - val_loss: 0.2945 - val_accuracy: 0.9231\n",
      "Epoch 7/10\n",
      "320/320 [==============================] - 5s 17ms/step - loss: 0.0176 - accuracy: 0.9981 - val_loss: 0.2734 - val_accuracy: 0.9135\n",
      "Epoch 8/10\n",
      "320/320 [==============================] - 5s 15ms/step - loss: 0.0139 - accuracy: 0.9987 - val_loss: 0.3026 - val_accuracy: 0.9038\n",
      "Epoch 9/10\n",
      "320/320 [==============================] - 5s 16ms/step - loss: 0.0088 - accuracy: 0.9992 - val_loss: 0.2157 - val_accuracy: 0.9423\n",
      "Epoch 10/10\n",
      "320/320 [==============================] - 5s 17ms/step - loss: 0.0073 - accuracy: 0.9991 - val_loss: 0.2409 - val_accuracy: 0.9327\n"
     ]
    }
   ],
   "source": [
    "#datas training .\n",
    "history = Create_model().fit(ready_x,lbl_x,epochs=10,validation_data=(ready_y,lbl_y))"
   ]
  },
  {
   "cell_type": "code",
   "execution_count": 139,
   "id": "6e2035e9",
   "metadata": {},
   "outputs": [
    {
     "data": {
      "image/png": "[encoded data removed]",
      "text/plain": [
       "<Figure size 640x480 with 1 Axes>"
      ]
     },
     "metadata": {},
     "output_type": "display_data"
    },
    {
     "data": {
      "image/png": "[encoded data removed]",
      "text/plain": [
       "<Figure size 640x480 with 1 Axes>"
      ]
     },
     "metadata": {},
     "output_type": "display_data"
    }
   ],
   "source": [
    "#Visualize models performance\n",
    "import matplotlib.pyplot as plt\n",
    "epoch = range(1,11)\n",
    "results = history.history\n",
    "plt.plot(epoch,results['accuracy'],'blue')\n",
    "plt.plot(epoch,results['val_accuracy'],'red')\n",
    "plt.xlabel('Epochs')\n",
    "plt.ylabel('Accuracy')\n",
    "plt.title('language_detection')\n",
    "plt.show()\n",
    "plt.plot(epoch,results['loss'],'blue')\n",
    "plt.plot(epoch,results['val_loss'],'red')\n",
    "plt.xlabel('Epochs')\n",
    "plt.ylabel('Loss')\n",
    "plt.title('language_detection')\n",
    "plt.show()"
   ]
  },
  {
   "cell_type": "code",
   "execution_count": null,
   "id": "4cacb0d5",
   "metadata": {},
   "outputs": [],
   "source": []
  }
 ],
 "metadata": {
  "kernelspec": {
   "display_name": "Python 3 (ipykernel)",
   "language": "python",
   "name": "python3"
  },
  "language_info": {
   "codemirror_mode": {
    "name": "ipython",
    "version": 3
   },
   "file_extension": ".py",
   "mimetype": "text/x-python",
   "name": "python",
   "nbconvert_exporter": "python",
   "pygments_lexer": "ipython3",
   "version": "3.9.13"
  }
 },
 "nbformat": 4,
 "nbformat_minor": 5
}
